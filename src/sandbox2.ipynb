{
 "cells": [
  {
   "cell_type": "code",
   "execution_count": 1,
   "metadata": {},
   "outputs": [],
   "source": [
    "import jax\n",
    "import jax.numpy as jnp\n",
    "import chex\n",
    "from jax.scipy.stats import norm\n",
    "from annealed_flow_transport.utils import smc_utils as su\n",
    "import matplotlib.pyplot as plt"
   ]
  },
  {
   "cell_type": "code",
   "execution_count": 2,
   "metadata": {},
   "outputs": [],
   "source": [
    "key = jax.random.PRNGKey(5)\n",
    "key, key_ = jax.random.split(key)"
   ]
  },
  {
   "cell_type": "code",
   "execution_count": 3,
   "metadata": {},
   "outputs": [],
   "source": [
    "mean_a = 0.\n",
    "mean_b = -1.\n",
    "mean_c = 2.\n",
    "mean_d = 0.1\n",
    "var_a = 1.\n",
    "var_b = 4.\n",
    "var_c = 5.\n",
    "var_d = 1.\n",
    "\n",
    "num_particles=10000000\n",
    "\n",
    "samples = mean_a + jnp.sqrt(var_a)*jax.random.normal(key, (num_particles, 1))\n",
    "\n",
    "log_density_a = norm.logpdf(samples, mean_a, \n",
    "                                      jnp.sqrt(var_a)).flatten()\n",
    "log_density_b = norm.logpdf(samples, mean_b, \n",
    "                                      jnp.sqrt(var_b)).flatten()\n",
    "log_density_c = norm.logpdf(samples, mean_c, \n",
    "                                      jnp.sqrt(var_c)).flatten()\n",
    "log_density_d = norm.logpdf(samples, mean_d, \n",
    "                                    jnp.sqrt(var_d)).flatten()\n",
    "log_weights = log_density_b - log_density_a"
   ]
  },
  {
   "cell_type": "code",
   "execution_count": 4,
   "metadata": {},
   "outputs": [
    {
     "data": {
      "text/plain": [
       "(Array(-0.9122688, dtype=float32), Array(3.6197534, dtype=float32))"
      ]
     },
     "execution_count": 4,
     "metadata": {},
     "output_type": "execute_result"
    }
   ],
   "source": [
    "testmean_b = jnp.sum(jax.nn.softmax(log_weights) * samples.flatten())\n",
    "testvar_b = jnp.sum(jax.nn.softmax(log_weights) * (samples.flatten() - testmean_b)**2)\n",
    "testmean_b, testvar_b"
   ]
  },
  {
   "cell_type": "code",
   "execution_count": 5,
   "metadata": {},
   "outputs": [],
   "source": [
    "def flow_apply(unused_params, samples):\n",
    "  transported_samples = jnp.sqrt(var_c/var_b)*(samples-mean_b) + mean_c\n",
    "  log_det_jacs = jnp.log(jnp.sqrt(var_c/var_b)) * jnp.ones(num_particles)\n",
    "  return transported_samples, log_det_jacs"
   ]
  },
  {
   "cell_type": "code",
   "execution_count": 6,
   "metadata": {},
   "outputs": [
    {
     "data": {
      "text/plain": [
       "(Array(2.0980864, dtype=float32), Array(4.5246916, dtype=float32))"
      ]
     },
     "execution_count": 6,
     "metadata": {},
     "output_type": "execute_result"
    }
   ],
   "source": [
    "testmean_c = jnp.sum(jax.nn.softmax(log_weights) * flow_apply(None, samples)[0].flatten())\n",
    "testvar_c = jnp.sum(jax.nn.softmax(log_weights) * (flow_apply(None, samples)[0].flatten() - testmean_c)**2)\n",
    "testmean_c, testvar_c"
   ]
  },
  {
   "cell_type": "code",
   "execution_count": 7,
   "metadata": {},
   "outputs": [],
   "source": [
    "def step_density(beta, x):\n",
    "  log_density_b = norm.logpdf(x, mean_b, jnp.sqrt(var_b)).flatten()\n",
    "  log_density_d = norm.logpdf(x, mean_d, jnp.sqrt(var_d)).flatten()\n",
    "  return (1-beta)*log_density_b + beta*log_density_d"
   ]
  },
  {
   "cell_type": "code",
   "execution_count": 8,
   "metadata": {},
   "outputs": [
    {
     "data": {
      "text/plain": [
       "Array(3.0002809, dtype=float32, weak_type=True)"
      ]
     },
     "execution_count": 8,
     "metadata": {},
     "output_type": "execute_result"
    }
   ],
   "source": [
    "def kl_div(mean0, var0, mean1, var1):\n",
    "  return 0.5 * (\n",
    "    var0 / var1 + jnp.square(mean1 - mean0) / var1 - 1. + jnp.log(var1) - \n",
    "    jnp.log(var0))\n",
    "kl_div(mean_c, var_c, mean_d, var_d)"
   ]
  },
  {
   "cell_type": "code",
   "execution_count": 9,
   "metadata": {},
   "outputs": [
    {
     "data": {
      "text/plain": [
       "Array(3.0002809, dtype=float32, weak_type=True)"
      ]
     },
     "execution_count": 9,
     "metadata": {},
     "output_type": "execute_result"
    }
   ],
   "source": [
    "def kl(m1, v1, m2, v2):\n",
    "  return -0.5 * (jnp.log(v1) - jnp.log(v2) - v1/v2 - jnp.square(m1-m2)/v2 + 1)\n",
    "kl_div(mean_c, var_c, mean_d, var_d)"
   ]
  },
  {
   "cell_type": "code",
   "execution_count": 10,
   "metadata": {},
   "outputs": [
    {
     "data": {
      "text/plain": [
       "Array(3.00037, dtype=float32)"
      ]
     },
     "execution_count": 10,
     "metadata": {},
     "output_type": "execute_result"
    }
   ],
   "source": [
    "su.estimate_free_energy(samples, log_weights, flow_apply, None, step_density, 1, 0)"
   ]
  },
  {
   "cell_type": "code",
   "execution_count": null,
   "metadata": {},
   "outputs": [],
   "source": []
  }
 ],
 "metadata": {
  "kernelspec": {
   "display_name": "Python 3",
   "language": "python",
   "name": "python3"
  },
  "language_info": {
   "codemirror_mode": {
    "name": "ipython",
    "version": 3
   },
   "file_extension": ".py",
   "mimetype": "text/x-python",
   "name": "python",
   "nbconvert_exporter": "python",
   "pygments_lexer": "ipython3",
   "version": "3.11.7"
  }
 },
 "nbformat": 4,
 "nbformat_minor": 2
}
