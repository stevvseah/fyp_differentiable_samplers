{
 "cells": [
  {
   "cell_type": "code",
   "execution_count": 2,
   "metadata": {},
   "outputs": [
    {
     "ename": "TypeError",
     "evalue": "'builtin_function_or_method' object is not subscriptable",
     "output_type": "error",
     "traceback": [
      "\u001b[1;31m---------------------------------------------------------------------------\u001b[0m",
      "\u001b[1;31mTypeError\u001b[0m                                 Traceback (most recent call last)",
      "Cell \u001b[1;32mIn[2], line 6\u001b[0m\n\u001b[0;32m      4\u001b[0m \u001b[38;5;28;01mfrom\u001b[39;00m \u001b[38;5;21;01mflax\u001b[39;00m \u001b[38;5;28;01mimport\u001b[39;00m linen \u001b[38;5;28;01mas\u001b[39;00m nn\n\u001b[0;32m      5\u001b[0m \u001b[38;5;28;01mimport\u001b[39;00m \u001b[38;5;21;01mchex\u001b[39;00m\n\u001b[1;32m----> 6\u001b[0m \u001b[38;5;28;01mfrom\u001b[39;00m \u001b[38;5;21;01mannealed_flow_transport\u001b[39;00m\u001b[38;5;21;01m.\u001b[39;00m\u001b[38;5;21;01mutils\u001b[39;00m \u001b[38;5;28;01mimport\u001b[39;00m smc_utils \u001b[38;5;28;01mas\u001b[39;00m su\n",
      "File \u001b[1;32mc:\\Users\\USER\\Desktop\\Projects\\fyp_differentiable_samplers\\src\\annealed_flow_transport\\utils\\smc_utils.py:104\u001b[0m\n\u001b[0;32m     99\u001b[0m \tnew_samples, new_log_weights \u001b[38;5;241m=\u001b[39m jax\u001b[38;5;241m.\u001b[39mlax\u001b[38;5;241m.\u001b[39mcond(log_ess \u001b[38;5;241m<\u001b[39m jnp\u001b[38;5;241m.\u001b[39mlog(threshold_ess), resample, \n\u001b[0;32m    100\u001b[0m \t\t\t\t\t\t\t\t\t\t\t no_resample, key, log_weights, samples)\n\u001b[0;32m    102\u001b[0m \t\u001b[38;5;28;01mreturn\u001b[39;00m new_samples, new_log_weights\n\u001b[1;32m--> 104\u001b[0m \u001b[38;5;28;43;01mclass\u001b[39;49;00m\u001b[43m \u001b[49m\u001b[38;5;21;43;01mGeometricAnnealingSchedule\u001b[39;49;00m\u001b[43m:\u001b[49m\n\u001b[0;32m    105\u001b[0m \u001b[38;5;250;43m  \u001b[39;49m\u001b[38;5;124;43;03m\"\"\"Computes a geometric annealing schedule between initial and target log densities.\u001b[39;49;00m\n\u001b[0;32m    106\u001b[0m \u001b[38;5;124;43;03m  \u001b[39;49;00m\n\u001b[0;32m    107\u001b[0m \u001b[38;5;124;43;03m  Attributes\u001b[39;49;00m\n\u001b[1;32m   (...)\u001b[0m\n\u001b[0;32m    112\u001b[0m \u001b[38;5;124;43;03m  num_temps : int\u001b[39;49;00m\n\u001b[0;32m    113\u001b[0m \u001b[38;5;124;43;03m  \"\"\"\u001b[39;49;00m\n\u001b[0;32m    115\u001b[0m \u001b[43m  \u001b[49m\u001b[43minitial_log_density\u001b[49m\u001b[43m:\u001b[49m\u001b[43m \u001b[49m\u001b[38;5;28;43mcallable\u001b[39;49m\u001b[43m[\u001b[49m\u001b[43m[\u001b[49m\u001b[43mjax\u001b[49m\u001b[38;5;241;43m.\u001b[39;49m\u001b[43mArray\u001b[49m\u001b[43m]\u001b[49m\u001b[43m,\u001b[49m\u001b[43m \u001b[49m\u001b[43mjax\u001b[49m\u001b[38;5;241;43m.\u001b[39;49m\u001b[43mArray\u001b[49m\u001b[43m]\u001b[49m\n",
      "File \u001b[1;32mc:\\Users\\USER\\Desktop\\Projects\\fyp_differentiable_samplers\\src\\annealed_flow_transport\\utils\\smc_utils.py:115\u001b[0m, in \u001b[0;36mGeometricAnnealingSchedule\u001b[1;34m()\u001b[0m\n\u001b[0;32m    104\u001b[0m \u001b[38;5;28;01mclass\u001b[39;00m \u001b[38;5;21;01mGeometricAnnealingSchedule\u001b[39;00m:\n\u001b[0;32m    105\u001b[0m \u001b[38;5;250m  \u001b[39m\u001b[38;5;124;03m\"\"\"Computes a geometric annealing schedule between initial and target log densities.\u001b[39;00m\n\u001b[0;32m    106\u001b[0m \u001b[38;5;124;03m  \u001b[39;00m\n\u001b[0;32m    107\u001b[0m \u001b[38;5;124;03m  Attributes\u001b[39;00m\n\u001b[1;32m   (...)\u001b[0m\n\u001b[0;32m    112\u001b[0m \u001b[38;5;124;03m  num_temps : int\u001b[39;00m\n\u001b[0;32m    113\u001b[0m \u001b[38;5;124;03m  \"\"\"\u001b[39;00m\n\u001b[1;32m--> 115\u001b[0m   initial_log_density: \u001b[38;5;28;43mcallable\u001b[39;49m\u001b[43m[\u001b[49m\u001b[43m[\u001b[49m\u001b[43mjax\u001b[49m\u001b[38;5;241;43m.\u001b[39;49m\u001b[43mArray\u001b[49m\u001b[43m]\u001b[49m\u001b[43m,\u001b[49m\u001b[43m \u001b[49m\u001b[43mjax\u001b[49m\u001b[38;5;241;43m.\u001b[39;49m\u001b[43mArray\u001b[49m\u001b[43m]\u001b[49m\n\u001b[0;32m    116\u001b[0m   final_log_density: \u001b[38;5;28mcallable\u001b[39m[[jax\u001b[38;5;241m.\u001b[39mArray], jax\u001b[38;5;241m.\u001b[39mArray]\n\u001b[0;32m    117\u001b[0m   num_temps: \u001b[38;5;28mint\u001b[39m\n",
      "\u001b[1;31mTypeError\u001b[0m: 'builtin_function_or_method' object is not subscriptable"
     ]
    }
   ],
   "source": [
    "import jax\n",
    "import jax.numpy as jnp\n",
    "from ml_collections import ConfigDict\n",
    "from flax import linen as nn\n",
    "import chex\n",
    "from annealed_flow_transport.utils import smc_utils as su"
   ]
  },
  {
   "cell_type": "code",
   "execution_count": 38,
   "metadata": {},
   "outputs": [],
   "source": [
    "from typing import Callable"
   ]
  },
  {
   "cell_type": "code",
   "execution_count": 14,
   "metadata": {},
   "outputs": [],
   "source": [
    "key = jax.random.PRNGKey(0)\n",
    "key, key_ = jax.random.split(key)"
   ]
  },
  {
   "cell_type": "code",
   "execution_count": 46,
   "metadata": {},
   "outputs": [],
   "source": [
    "class foo:\n",
    "  def __init__(self, bar:Callable[[int], int]):\n",
    "    self.bar = bar"
   ]
  },
  {
   "cell_type": "code",
   "execution_count": 47,
   "metadata": {},
   "outputs": [
    {
     "data": {
      "text/plain": [
       "1"
      ]
     },
     "execution_count": 47,
     "metadata": {},
     "output_type": "execute_result"
    }
   ],
   "source": [
    "foo(1).bar"
   ]
  },
  {
   "cell_type": "code",
   "execution_count": 5,
   "metadata": {},
   "outputs": [],
   "source": [
    "config = ConfigDict()\n",
    "\n",
    "config.seed = 5\n",
    "config.batch_size = 2000\n",
    "# config.sample_shape = (32*32,)\n",
    "config.sample_shape = (10,)\n",
    "config.report_step = 1\n",
    "config.num_temps = 10\n",
    "config.resample_threshold = 0.3\n",
    "config.stopping_criterion = 'time'\n",
    "config.use_resampling = True\n",
    "config.use_markov = True\n",
    "config.use_path_gradient = False\n",
    "config.algo = 'craft'\n",
    "config.vi_iters = 1000\n",
    "config.vi_estimator = 'importance'\n",
    "config.vi_report_step = 100\n",
    "config.craft_num_iters = 200\n",
    "config.craft_batch_size = 2000\n",
    "\n",
    "optimization_config = ConfigDict()\n",
    "# optimization_config.free_energy_iters = 500 (this should be aft_num_iters)\n",
    "# optimization_config.aft_step_size = 1e-2\n",
    "optimization_config.craft_step_size = 1e-3\n",
    "optimization_config.vi_step_size = 1e-3\n",
    "config.optimization_config = optimization_config\n",
    "\n",
    "initial_config = ConfigDict()\n",
    "initial_config.density = 'MultivariateNormalDistribution'\n",
    "initial_config.shared_mean = 0.\n",
    "initial_config.diagonal_cov = 1.\n",
    "config.initial_config = initial_config\n",
    "\n",
    "final_config = ConfigDict()\n",
    "# final_config.density = 'LogGaussianCoxPines'\n",
    "final_config.density = 'FunnelDistribution'\n",
    "# final_config.use_whitened = False\n",
    "# final_config.file_path = 'data/finpines.csv' ################################################\n",
    "config.final_config = final_config\n",
    "\n",
    "initial_sampler_config = ConfigDict()\n",
    "initial_sampler_config.initial_sampler = 'MultivariateNormalDistribution'\n",
    "config.initial_sampler_config = initial_sampler_config\n",
    "\n",
    "flow_config = ConfigDict()\n",
    "flow_config.type = 'DiagonalAffine'\n",
    "flow_config.sample_shape = config.sample_shape\n",
    "config.flow_config = flow_config\n",
    "\n",
    "mcmc_config = ConfigDict()\n",
    "hmc_step_config = ConfigDict()\n",
    "hmc_step_config.step_times = [0., 0.25, 0.5, 1.]\n",
    "hmc_step_config.step_sizes = [0.3, 0.3, 0.2, 0.2]\n",
    "\n",
    "mcmc_config.hmc_step_config = hmc_step_config\n",
    "mcmc_config.hmc_steps_per_iter = 1\n",
    "mcmc_config.rwm_steps_per_iter = 0\n",
    "mcmc_config.hmc_num_leapfrog_steps = 10\n",
    "config.mcmc_config = mcmc_config"
   ]
  },
  {
   "cell_type": "code",
   "execution_count": 6,
   "metadata": {},
   "outputs": [
    {
     "data": {
      "text/plain": [
       "AlgoResultsTuple(test_samples=Array([[-0.72677284, -0.26233655, -0.27031282, ..., -0.38044098,\n",
       "        -0.07710744,  0.19597872],\n",
       "       [-2.3037531 ,  0.61401784,  0.3610436 , ...,  0.29342684,\n",
       "         0.21329764, -0.08818472],\n",
       "       [-0.5597671 , -1.1436883 , -1.2696712 , ..., -0.40046382,\n",
       "         1.8555237 ,  1.2299283 ],\n",
       "       ...,\n",
       "       [ 0.33880764, -0.95755666, -1.4909831 , ..., -0.58816355,\n",
       "        -1.1841233 , -0.4133686 ],\n",
       "       [-0.9067402 ,  0.09210262, -0.01061814, ..., -0.4997457 ,\n",
       "        -0.17286083, -0.1135186 ],\n",
       "       [-2.5126436 ,  0.23274058, -0.3197874 , ...,  0.6104518 ,\n",
       "         0.12019639,  0.21252064]], dtype=float32), test_log_weights=Array([-7.9212103, -8.097366 , -8.137023 , ..., -7.7042093, -7.8161287,\n",
       "       -7.5426273], dtype=float32), log_normalizer_estimate=Array(-0.24894142, dtype=float32), delta_time=19.98450493812561, initial_time_diff=2.1193394660949707)"
      ]
     },
     "execution_count": 6,
     "metadata": {},
     "output_type": "execute_result"
    }
   ],
   "source": [
    "res = train.run_experiment(config)\n",
    "res"
   ]
  },
  {
   "cell_type": "code",
   "execution_count": null,
   "metadata": {},
   "outputs": [],
   "source": []
  }
 ],
 "metadata": {
  "kernelspec": {
   "display_name": "Python 3",
   "language": "python",
   "name": "python3"
  },
  "language_info": {
   "codemirror_mode": {
    "name": "ipython",
    "version": 3
   },
   "file_extension": ".py",
   "mimetype": "text/x-python",
   "name": "python",
   "nbconvert_exporter": "python",
   "pygments_lexer": "ipython3",
   "version": "3.11.7"
  }
 },
 "nbformat": 4,
 "nbformat_minor": 2
}
