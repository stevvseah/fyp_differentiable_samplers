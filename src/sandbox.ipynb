{
 "cells": [
  {
   "cell_type": "code",
   "execution_count": 13,
   "metadata": {},
   "outputs": [],
   "source": [
    "import jax\n",
    "import jax.numpy as jnp\n",
    "from annealed_flow_transport import train\n",
    "from configs import lgcp_pines\n",
    "from configs import funnel\n",
    "from ml_collections import ConfigDict\n",
    "from flax import linen as nn\n",
    "import chex\n",
    "from new_aft_stuff.utils import smc_utils as su"
   ]
  },
  {
   "cell_type": "code",
   "execution_count": 14,
   "metadata": {},
   "outputs": [],
   "source": [
    "key = jax.random.PRNGKey(0)\n",
    "key, key_ = jax.random.split(key)"
   ]
  },
  {
   "cell_type": "code",
   "execution_count": 40,
   "metadata": {},
   "outputs": [
    {
     "data": {
      "text/plain": [
       "Array([1.], dtype=float32)"
      ]
     },
     "execution_count": 40,
     "metadata": {},
     "output_type": "execute_result"
    }
   ],
   "source": [
    "jnp.ones(1)"
   ]
  },
  {
   "cell_type": "code",
   "execution_count": 5,
   "metadata": {},
   "outputs": [],
   "source": [
    "config = ConfigDict()\n",
    "\n",
    "config.seed = 5\n",
    "config.batch_size = 2000\n",
    "# config.sample_shape = (32*32,)\n",
    "config.sample_shape = (10,)\n",
    "config.report_step = 1\n",
    "config.num_temps = 10\n",
    "config.resample_threshold = 0.3\n",
    "config.stopping_criterion = 'time'\n",
    "config.use_resampling = True\n",
    "config.use_markov = True\n",
    "config.use_path_gradient = False\n",
    "config.algo = 'craft'\n",
    "config.vi_iters = 1000\n",
    "config.vi_estimator = 'importance'\n",
    "config.vi_report_step = 100\n",
    "config.craft_num_iters = 200\n",
    "config.craft_batch_size = 2000\n",
    "\n",
    "optimization_config = ConfigDict()\n",
    "# optimization_config.free_energy_iters = 500 (this should be aft_num_iters)\n",
    "# optimization_config.aft_step_size = 1e-2\n",
    "optimization_config.craft_step_size = 1e-3\n",
    "optimization_config.vi_step_size = 1e-3\n",
    "config.optimization_config = optimization_config\n",
    "\n",
    "initial_config = ConfigDict()\n",
    "initial_config.density = 'MultivariateNormalDistribution'\n",
    "initial_config.shared_mean = 0.\n",
    "initial_config.diagonal_cov = 1.\n",
    "config.initial_config = initial_config\n",
    "\n",
    "final_config = ConfigDict()\n",
    "# final_config.density = 'LogGaussianCoxPines'\n",
    "final_config.density = 'FunnelDistribution'\n",
    "# final_config.use_whitened = False\n",
    "# final_config.file_path = 'data/finpines.csv' ################################################\n",
    "config.final_config = final_config\n",
    "\n",
    "initial_sampler_config = ConfigDict()\n",
    "initial_sampler_config.initial_sampler = 'MultivariateNormalDistribution'\n",
    "config.initial_sampler_config = initial_sampler_config\n",
    "\n",
    "flow_config = ConfigDict()\n",
    "flow_config.type = 'DiagonalAffine'\n",
    "flow_config.sample_shape = config.sample_shape\n",
    "config.flow_config = flow_config\n",
    "\n",
    "mcmc_config = ConfigDict()\n",
    "hmc_step_config = ConfigDict()\n",
    "hmc_step_config.step_times = [0., 0.25, 0.5, 1.]\n",
    "hmc_step_config.step_sizes = [0.3, 0.3, 0.2, 0.2]\n",
    "\n",
    "mcmc_config.hmc_step_config = hmc_step_config\n",
    "mcmc_config.hmc_steps_per_iter = 1\n",
    "mcmc_config.rwm_steps_per_iter = 0\n",
    "mcmc_config.hmc_num_leapfrog_steps = 10\n",
    "config.mcmc_config = mcmc_config"
   ]
  },
  {
   "cell_type": "code",
   "execution_count": 6,
   "metadata": {},
   "outputs": [
    {
     "data": {
      "text/plain": [
       "AlgoResultsTuple(test_samples=Array([[-0.72677284, -0.26233655, -0.27031282, ..., -0.38044098,\n",
       "        -0.07710744,  0.19597872],\n",
       "       [-2.3037531 ,  0.61401784,  0.3610436 , ...,  0.29342684,\n",
       "         0.21329764, -0.08818472],\n",
       "       [-0.5597671 , -1.1436883 , -1.2696712 , ..., -0.40046382,\n",
       "         1.8555237 ,  1.2299283 ],\n",
       "       ...,\n",
       "       [ 0.33880764, -0.95755666, -1.4909831 , ..., -0.58816355,\n",
       "        -1.1841233 , -0.4133686 ],\n",
       "       [-0.9067402 ,  0.09210262, -0.01061814, ..., -0.4997457 ,\n",
       "        -0.17286083, -0.1135186 ],\n",
       "       [-2.5126436 ,  0.23274058, -0.3197874 , ...,  0.6104518 ,\n",
       "         0.12019639,  0.21252064]], dtype=float32), test_log_weights=Array([-7.9212103, -8.097366 , -8.137023 , ..., -7.7042093, -7.8161287,\n",
       "       -7.5426273], dtype=float32), log_normalizer_estimate=Array(-0.24894142, dtype=float32), delta_time=19.98450493812561, initial_time_diff=2.1193394660949707)"
      ]
     },
     "execution_count": 6,
     "metadata": {},
     "output_type": "execute_result"
    }
   ],
   "source": [
    "res = train.run_experiment(config)\n",
    "res"
   ]
  },
  {
   "cell_type": "code",
   "execution_count": null,
   "metadata": {},
   "outputs": [],
   "source": []
  }
 ],
 "metadata": {
  "kernelspec": {
   "display_name": "Python 3",
   "language": "python",
   "name": "python3"
  },
  "language_info": {
   "codemirror_mode": {
    "name": "ipython",
    "version": 3
   },
   "file_extension": ".py",
   "mimetype": "text/x-python",
   "name": "python",
   "nbconvert_exporter": "python",
   "pygments_lexer": "ipython3",
   "version": "3.11.7"
  }
 },
 "nbformat": 4,
 "nbformat_minor": 2
}
